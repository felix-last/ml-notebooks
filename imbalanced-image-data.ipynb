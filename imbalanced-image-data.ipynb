{
 "cells": [
  {
   "cell_type": "markdown",
   "metadata": {
    "deletable": true,
    "editable": true
   },
   "source": [
    "# 1 Introduction"
   ]
  },
  {
   "cell_type": "markdown",
   "metadata": {
    "deletable": true,
    "editable": true
   },
   "source": [
    "This notebook contains the experimental procedure in order to compare and visualize various undersampling and oversampling methods on image data."
   ]
  },
  {
   "cell_type": "markdown",
   "metadata": {
    "deletable": true,
    "editable": true
   },
   "source": [
    "# 2 Imports"
   ]
  },
  {
   "cell_type": "markdown",
   "metadata": {
    "deletable": true,
    "editable": true
   },
   "source": [
    "#### 2.1 General"
   ]
  },
  {
   "cell_type": "code",
   "execution_count": 1,
   "metadata": {
    "collapsed": true,
    "deletable": true,
    "editable": true
   },
   "outputs": [],
   "source": [
    "import scipy\n",
    "import numpy as np\n",
    "import pandas as pd\n",
    "import matplotlib.pyplot as plt\n",
    "from random import choices\n",
    "from math import sqrt"
   ]
  },
  {
   "cell_type": "markdown",
   "metadata": {
    "deletable": true,
    "editable": true
   },
   "source": [
    "#### 2.2 scikit-learn"
   ]
  },
  {
   "cell_type": "code",
   "execution_count": 2,
   "metadata": {
    "collapsed": true,
    "deletable": true,
    "editable": true
   },
   "outputs": [],
   "source": [
    "from sklearn.linear_model import LogisticRegression\n",
    "from sklearn.model_selection import cross_val_score, StratifiedKFold, GridSearchCV\n",
    "from sklearn.datasets import make_classification, fetch_mldata\n",
    "from sklearn.preprocessing import label_binarize"
   ]
  },
  {
   "cell_type": "markdown",
   "metadata": {
    "deletable": true,
    "editable": true
   },
   "source": [
    "#### 2.3 imbalance-learn"
   ]
  },
  {
   "cell_type": "code",
   "execution_count": 3,
   "metadata": {
    "collapsed": true,
    "deletable": true,
    "editable": true
   },
   "outputs": [],
   "source": [
    "from imblearn.over_sampling import RandomOverSampler, ADASYN, SMOTE\n",
    "from imblearn.pipeline import make_pipeline\n",
    "from imblearn.datasets import make_imbalance"
   ]
  },
  {
   "cell_type": "markdown",
   "metadata": {
    "deletable": true,
    "editable": true
   },
   "source": [
    "# 3 Functions"
   ]
  },
  {
   "cell_type": "markdown",
   "metadata": {
    "deletable": true,
    "editable": true
   },
   "source": [
    "#### 3.1 Helper function"
   ]
  },
  {
   "cell_type": "code",
   "execution_count": 4,
   "metadata": {
    "collapsed": true,
    "deletable": true,
    "editable": true
   },
   "outputs": [],
   "source": [
    "def measures(estimator, X, y):\n",
    "    y_predicted = estimator.predict(X)\n",
    "    true_positive = (y_predicted == 1)[y == 1].sum()\n",
    "    false_positive = (y_predicted == 1)[y == 0].sum()\n",
    "    true_negative = (y_predicted == 0)[y == 0].sum()\n",
    "    false_negative = (y_predicted == 0)[y == 1].sum()\n",
    "    return true_positive, false_positive, true_negative, false_negative"
   ]
  },
  {
   "cell_type": "markdown",
   "metadata": {
    "deletable": true,
    "editable": true
   },
   "source": [
    "#### 3.2 F-measure"
   ]
  },
  {
   "cell_type": "code",
   "execution_count": 5,
   "metadata": {
    "collapsed": true,
    "deletable": true,
    "editable": true
   },
   "outputs": [],
   "source": [
    "def F_measure(estimator, X, y):\n",
    "    true_positive, false_positive, true_negative, false_negative = measures(estimator, X, y)\n",
    "    return 2 * true_positive / (2 * true_positive + false_positive + false_negative)"
   ]
  },
  {
   "cell_type": "markdown",
   "metadata": {
    "deletable": true,
    "editable": true
   },
   "source": [
    "#### 3.3 G-mean"
   ]
  },
  {
   "cell_type": "code",
   "execution_count": 6,
   "metadata": {
    "collapsed": true,
    "deletable": true,
    "editable": true
   },
   "outputs": [],
   "source": [
    "def G_mean(estimator, X, y):\n",
    "    true_positive, false_positive, true_negative, false_negative = measures(estimator, X, y)\n",
    "    sensitivity = true_positive / (true_positive + false_negative)\n",
    "    specificity = true_negative / (true_negative + false_positive)\n",
    "    return sqrt(sensitivity * specificity)"
   ]
  },
  {
   "cell_type": "markdown",
   "metadata": {
    "deletable": true,
    "editable": true
   },
   "source": [
    "# 4 Load image data"
   ]
  },
  {
   "cell_type": "markdown",
   "metadata": {
    "deletable": true,
    "editable": true
   },
   "source": [
    "#### 4.1 Load and append datasets to container"
   ]
  },
  {
   "cell_type": "code",
   "execution_count": 7,
   "metadata": {
    "collapsed": false,
    "deletable": true,
    "editable": true
   },
   "outputs": [],
   "source": [
    "datasets = []\n",
    "datasets_names = [\"MNIST original\"]\n",
    "for dataset_name in datasets_names:\n",
    "    datasets.append(fetch_mldata(dataset_name, data_home=\".\"))"
   ]
  },
  {
   "cell_type": "markdown",
   "metadata": {
    "deletable": true,
    "editable": true
   },
   "source": [
    "#### 4.2. Binarize the target variable"
   ]
  },
  {
   "cell_type": "code",
   "execution_count": 8,
   "metadata": {
    "collapsed": false,
    "deletable": true,
    "editable": true
   },
   "outputs": [],
   "source": [
    "imbalanced_datasets = []\n",
    "classes = [(1, 7)]\n",
    "for ind, dataset in enumerate(datasets):\n",
    "    X, y = dataset.data, dataset.target.astype(np.int64)\n",
    "    keep_indices = (y == classes[ind][0]) | (y == classes[ind][1])\n",
    "    imbalanced_datasets.append(make_imbalance(X[keep_indices], y[keep_indices], ratio=0.01, random_state=0))"
   ]
  },
  {
   "cell_type": "markdown",
   "metadata": {
    "deletable": true,
    "editable": true
   },
   "source": [
    "#### 4.2 Plot image data"
   ]
  },
  {
   "cell_type": "code",
   "execution_count": 9,
   "metadata": {
    "collapsed": false,
    "deletable": true,
    "editable": true
   },
   "outputs": [
    {
     "data": {
      "image/png": "[encoded data removed]",
      "text/plain": [
       "<matplotlib.figure.Figure at 0x10860fcf8>"
      ]
     },
     "metadata": {},
     "output_type": "display_data"
    }
   ],
   "source": [
    "plt.rcParams['figure.figsize'] = (20, 20)\n",
    "for dataset_ind, imbalanced_dataset in enumerate(imbalanced_datasets):\n",
    "    fig, ax = plt.subplots(1, 20)\n",
    "    X, y = imbalanced_dataset\n",
    "    img_dim = int(sqrt(X.shape[1]))\n",
    "    X = X.reshape(X.shape[0], img_dim, -1)\n",
    "    maj_class_label, min_class_label = classes[dataset_ind]\n",
    "    samples_indices = choices(np.where(y == maj_class_label)[0], k=10) + choices(np.where(y == min_class_label)[0], k=10)\n",
    "    for ind, sample_index in enumerate(samples_indices):    \n",
    "        ax[ind].imshow(X[sample_index], cmap='gray_r')\n",
    "        ax[ind].axis('off')\n",
    "        ax[ind].set_title(y[sample_index])\n",
    "plt.show()"
   ]
  },
  {
   "cell_type": "code",
   "execution_count": 10,
   "metadata": {
    "collapsed": false,
    "deletable": true,
    "editable": true
   },
   "outputs": [
    {
     "data": {
      "text/html": [
       "<div>\n",
       "<table border=\"1\" class=\"dataframe\">\n",
       "  <thead>\n",
       "    <tr style=\"text-align: right;\">\n",
       "      <th></th>\n",
       "      <th># of features</th>\n",
       "      <th># of instances</th>\n",
       "      <th># of minority instances</th>\n",
       "      <th># of majority instances</th>\n",
       "      <th>Imbalanced Ratio</th>\n",
       "    </tr>\n",
       "  </thead>\n",
       "  <tbody>\n",
       "    <tr>\n",
       "      <th>0</th>\n",
       "      <td>784</td>\n",
       "      <td>7955</td>\n",
       "      <td>78</td>\n",
       "      <td>7877</td>\n",
       "      <td>100</td>\n",
       "    </tr>\n",
       "  </tbody>\n",
       "</table>\n",
       "</div>"
      ],
      "text/plain": [
       "  # of features # of instances  # of minority instances  \\\n",
       "0           784           7955                       78   \n",
       "\n",
       "   # of majority instances  Imbalanced Ratio  \n",
       "0                     7877               100  "
      ]
     },
     "execution_count": 10,
     "metadata": {},
     "output_type": "execute_result"
    }
   ],
   "source": [
    "datasets_description = pd.DataFrame({}, columns=[\"# of features\", \"# of instances\", \"# of minority instances\", \"# of majority instances\", \"Imbalanced Ratio\"])\n",
    "for ind, (X, y) in enumerate(imbalanced_datasets):\n",
    "    num_features = X.shape[1]\n",
    "    num_instances = y.size\n",
    "    maj_class_label, min_class_label = classes[ind]\n",
    "    num_minority_instances = (y == min_class_label).sum()\n",
    "    num_majority_instances = (y == maj_class_label).sum()\n",
    "    IR = round(num_majority_instances / num_minority_instances, 2)\n",
    "    datasets_description.loc[len(datasets_description)] = [num_features, num_instances, num_minority_instances, num_majority_instances, IR]\n",
    "data_types = [\"object\", \"object\", \"int64\", \"int64\", \"int64\", \"int64\", \"float64\"]\n",
    "for ind, feature in enumerate(datasets_description.columns):\n",
    "    datasets_description[feature] = datasets_description[feature].astype(data_types[ind])\n",
    "datasets_description"
   ]
  },
  {
   "cell_type": "markdown",
   "metadata": {
    "deletable": true,
    "editable": true
   },
   "source": [
    "# 5 Experiment"
   ]
  },
  {
   "cell_type": "markdown",
   "metadata": {
    "deletable": true,
    "editable": true
   },
   "source": [
    "##### 5.1 Parameters"
   ]
  },
  {
   "cell_type": "code",
   "execution_count": 11,
   "metadata": {
    "collapsed": true,
    "deletable": true,
    "editable": true
   },
   "outputs": [],
   "source": [
    "cv_scores = []\n",
    "metrics = ['roc_auc', F_measure, G_mean]\n",
    "random_states = [5 * i for i in range(3)]"
   ]
  },
  {
   "cell_type": "markdown",
   "metadata": {
    "deletable": true,
    "editable": true
   },
   "source": [
    "#### 5.2 Run experiment"
   ]
  },
  {
   "cell_type": "code",
   "execution_count": 12,
   "metadata": {
    "collapsed": false,
    "deletable": true,
    "editable": true
   },
   "outputs": [],
   "source": [
    "for random_state in random_states:\n",
    "    cv = StratifiedKFold(n_splits=3, random_state=random_state)\n",
    "    algorithms = [LogisticRegression(random_state=random_state)]\n",
    "    methods = [None, RandomOverSampler(random_state=random_state), SMOTE(random_state=random_state, k_neighbors=3)]\n",
    "    for algorithm in algorithms:\n",
    "        for ind, (X, y) in enumerate(imbalanced_datasets):\n",
    "            y = label_binarize(y, classes=classes[ind]).reshape(y.size)\n",
    "            for method in methods:\n",
    "                for metric in metrics:\n",
    "                    if method is None:\n",
    "                        clf = algorithm\n",
    "                    else:\n",
    "                        clf = make_pipeline(method, algorithm)\n",
    "                    cv_scores.append(cross_val_score(clf, X, y, cv=cv, scoring=metric).mean())"
   ]
  },
  {
   "cell_type": "markdown",
   "metadata": {
    "deletable": true,
    "editable": true
   },
   "source": [
    "#### 5.3 Results parameters"
   ]
  },
  {
   "cell_type": "code",
   "execution_count": 14,
   "metadata": {
    "collapsed": true,
    "deletable": true,
    "editable": true
   },
   "outputs": [],
   "source": [
    "algorithms_names = [\"LR\"]\n",
    "metrics_names = [\"AUC\", \"F\", \"G\"]\n",
    "methods_names = [\"None\", \"Random\", \"SMOTE\"]"
   ]
  },
  {
   "cell_type": "markdown",
   "metadata": {
    "deletable": true,
    "editable": true
   },
   "source": [
    "#### 5.4 Mean results"
   ]
  },
  {
   "cell_type": "code",
   "execution_count": 15,
   "metadata": {
    "collapsed": false,
    "deletable": true,
    "editable": true
   },
   "outputs": [],
   "source": [
    "mean_cv_scores = np.array(cv_scores).reshape(len(random_states), -1).mean(axis=0).reshape(len(algorithms), len(imbalanced_datasets), len(methods), len(metrics))\n",
    "mean_results = pd.DataFrame()\n",
    "for ind1, alg_name in enumerate(algorithms_names):\n",
    "    for ind2, ds_name in enumerate(datasets_names):\n",
    "        partial_results = pd.DataFrame(mean_cv_scores[ind1, ind2, :, :].transpose(), columns=methods_names)\n",
    "        partial_results.insert(0, \"Metric\", metrics_names)\n",
    "        partial_results.insert(0, \"Dataset\", ds_name)\n",
    "        partial_results.insert(0, \"Algorithm\", alg_name)\n",
    "        mean_results = pd.concat([mean_results, partial_results])\n",
    "mean_results = mean_results.reset_index(drop=True)"
   ]
  },
  {
   "cell_type": "markdown",
   "metadata": {
    "deletable": true,
    "editable": true
   },
   "source": [
    "#### 5.5 Standard deviation results"
   ]
  },
  {
   "cell_type": "code",
   "execution_count": 16,
   "metadata": {
    "collapsed": false,
    "deletable": true,
    "editable": true
   },
   "outputs": [],
   "source": [
    "std_cv_scores = np.array(cv_scores).reshape(len(random_states), -1).std(axis=0).reshape(len(algorithms), len(imbalanced_datasets), len(methods), len(metrics))\n",
    "std_results = pd.DataFrame()\n",
    "for ind1, alg_name in enumerate(algorithms_names):\n",
    "    for ind2, ds_name in enumerate(datasets_names):\n",
    "        partial_results = pd.DataFrame(std_cv_scores[ind1, ind2, :, :].transpose(), columns=methods_names)\n",
    "        partial_results.insert(0, \"Metric\", metrics_names)\n",
    "        partial_results.insert(0, \"Dataset\", ds_name)\n",
    "        partial_results.insert(0, \"Algorithm\", alg_name)\n",
    "        std_results = pd.concat([std_results, partial_results])\n",
    "std_results = std_results.reset_index(drop=True)"
   ]
  },
  {
   "cell_type": "markdown",
   "metadata": {
    "deletable": true,
    "editable": true
   },
   "source": [
    "#### 5.6 Oversampling methods ranking"
   ]
  },
  {
   "cell_type": "code",
   "execution_count": 17,
   "metadata": {
    "collapsed": false,
    "deletable": true,
    "editable": true
   },
   "outputs": [
    {
     "data": {
      "text/html": [
       "<div>\n",
       "<table border=\"1\" class=\"dataframe\">\n",
       "  <thead>\n",
       "    <tr style=\"text-align: right;\">\n",
       "      <th></th>\n",
       "      <th></th>\n",
       "      <th>None</th>\n",
       "      <th>Random</th>\n",
       "      <th>SMOTE</th>\n",
       "    </tr>\n",
       "    <tr>\n",
       "      <th>Algorithm</th>\n",
       "      <th>Metric</th>\n",
       "      <th></th>\n",
       "      <th></th>\n",
       "      <th></th>\n",
       "    </tr>\n",
       "  </thead>\n",
       "  <tbody>\n",
       "    <tr>\n",
       "      <th rowspan=\"3\" valign=\"top\">LR</th>\n",
       "      <th>AUC</th>\n",
       "      <td>1</td>\n",
       "      <td>2</td>\n",
       "      <td>3</td>\n",
       "    </tr>\n",
       "    <tr>\n",
       "      <th>F</th>\n",
       "      <td>3</td>\n",
       "      <td>2</td>\n",
       "      <td>1</td>\n",
       "    </tr>\n",
       "    <tr>\n",
       "      <th>G</th>\n",
       "      <td>3</td>\n",
       "      <td>2</td>\n",
       "      <td>1</td>\n",
       "    </tr>\n",
       "  </tbody>\n",
       "</table>\n",
       "</div>"
      ],
      "text/plain": [
       "                  None  Random  SMOTE\n",
       "Algorithm Metric                     \n",
       "LR        AUC        1       2      3\n",
       "          F          3       2      1\n",
       "          G          3       2      1"
      ]
     },
     "execution_count": 17,
     "metadata": {},
     "output_type": "execute_result"
    }
   ],
   "source": [
    "ranking = mean_results.apply(lambda row: len(row[3:]) - row[3:].argsort().argsort(), axis=1)\n",
    "aggregated_ranking = round(pd.concat([mean_results[[\"Algorithm\", \"Metric\"]], ranking], axis=1).groupby([\"Algorithm\", \"Metric\"]).mean(), 2)\n",
    "aggregated_ranking"
   ]
  },
  {
   "cell_type": "markdown",
   "metadata": {
    "deletable": true,
    "editable": true
   },
   "source": [
    "#### 5.7 Friedman test"
   ]
  },
  {
   "cell_type": "code",
   "execution_count": 18,
   "metadata": {
    "collapsed": false,
    "deletable": true,
    "editable": true
   },
   "outputs": [
    {
     "data": {
      "text/html": [
       "<div>\n",
       "<table border=\"1\" class=\"dataframe\">\n",
       "  <thead>\n",
       "    <tr style=\"text-align: right;\">\n",
       "      <th></th>\n",
       "      <th>Algorithm</th>\n",
       "      <th>Metric</th>\n",
       "      <th>p-value</th>\n",
       "    </tr>\n",
       "  </thead>\n",
       "  <tbody>\n",
       "    <tr>\n",
       "      <th>0</th>\n",
       "      <td>LR</td>\n",
       "      <td>AUC</td>\n",
       "      <td>0.37</td>\n",
       "    </tr>\n",
       "    <tr>\n",
       "      <th>1</th>\n",
       "      <td>LR</td>\n",
       "      <td>F</td>\n",
       "      <td>0.37</td>\n",
       "    </tr>\n",
       "    <tr>\n",
       "      <th>2</th>\n",
       "      <td>LR</td>\n",
       "      <td>G</td>\n",
       "      <td>0.37</td>\n",
       "    </tr>\n",
       "  </tbody>\n",
       "</table>\n",
       "</div>"
      ],
      "text/plain": [
       "  Algorithm Metric  p-value\n",
       "0        LR    AUC     0.37\n",
       "1        LR      F     0.37\n",
       "2        LR      G     0.37"
      ]
     },
     "execution_count": 18,
     "metadata": {},
     "output_type": "execute_result"
    }
   ],
   "source": [
    "friedman_results = pd.DataFrame({}, columns=[\"Algorithm\", \"Metric\", \"p-value\"])\n",
    "for alg_name in algorithms_names:\n",
    "    for metric_name in metrics_names:\n",
    "        partial_ranking = pd.concat([mean_results[[\"Algorithm\", \"Metric\"]], ranking], axis=1)[(mean_results[\"Algorithm\"] == alg_name) & (mean_results[\"Metric\"] == metric_name)]\n",
    "        friedman_inputs = []\n",
    "        for method_name in methods_names:\n",
    "            friedman_inputs.append(partial_ranking[method_name])\n",
    "        pvalue = round(scipy.stats.friedmanchisquare(*friedman_inputs).pvalue, 2)\n",
    "        friedman_results.loc[len(friedman_results)] = [alg_name, metric_name, pvalue]\n",
    "friedman_results"
   ]
  }
 ],
 "metadata": {
  "kernelspec": {
   "display_name": "Python 3",
   "language": "python",
   "name": "python3"
  },
  "language_info": {
   "codemirror_mode": {
    "name": "ipython",
    "version": 3
   },
   "file_extension": ".py",
   "mimetype": "text/x-python",
   "name": "python",
   "nbconvert_exporter": "python",
   "pygments_lexer": "ipython3",
   "version": "3.6.0"
  }
 },
 "nbformat": 4,
 "nbformat_minor": 2
}
